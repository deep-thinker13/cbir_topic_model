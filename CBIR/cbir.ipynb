{
 "cells": [
  {
   "cell_type": "code",
   "execution_count": 94,
   "metadata": {},
   "outputs": [],
   "source": [
    "import cv2 as cv\n",
    "import numpy as np\n",
    "import scipy\n",
    "import pickle\n",
    "import random\n",
    "import os\n",
    "import matplotlib.pyplot as plt\n",
    "from sklearn.cluster import KMeans\n",
    "from sklearn.cluster import KMeans,MiniBatchKMeans"
   ]
  },
  {
   "cell_type": "code",
   "execution_count": 95,
   "metadata": {},
   "outputs": [],
   "source": [
    "directory='/Users/maddisiddart/Desktop/lessdataset'\n",
    "images=os.listdir(directory)"
   ]
  },
  {
   "cell_type": "code",
   "execution_count": 96,
   "metadata": {},
   "outputs": [],
   "source": [
    "#finding descriptors\n",
    "desc=[]\n",
    "key_list=[]\n",
    "X=[]\n",
    "sift = cv.xfeatures2d.SIFT_create()\n",
    "for img_name in images:\n",
    "    img_path=os.path.join(directory,img_name)\n",
    "    img=cv.imread(img_path)\n",
    "    '''plt.figure()\n",
    "    plt.imshow(img)\n",
    "    plt.show() '''\n",
    "    desc.append([])\n",
    "    key_list.append([])\n",
    "    kps=sift.detect(img)\n",
    "    kp1, des1 = sift.compute(img, kps)\n",
    "    desc[-1].append(des1)\n",
    "    key_list[-1].append(kp1)\n",
    "    \n",
    "    for d in des1:\n",
    "        X.append(d)"
   ]
  },
  {
   "cell_type": "code",
   "execution_count": 97,
   "metadata": {},
   "outputs": [
    {
     "name": "stdout",
     "output_type": "stream",
     "text": [
      "clustered\n"
     ]
    }
   ],
   "source": [
    "#clustering of key points to make dictionary using k means\n",
    "dictionary_size=50\n",
    "kmeans = KMeans(n_clusters=dictionary_size, init='k-means++', max_iter=300, n_init=10, random_state=0).fit(X)\n",
    "centers=kmeans.cluster_centers_\n",
    "print(\"clustered\")\n",
    "\n",
    "\n",
    "\n"
   ]
  },
  {
   "cell_type": "code",
   "execution_count": 98,
   "metadata": {},
   "outputs": [],
   "source": [
    "#flann matcher to match key points to words in dictionary\n",
    "FLANN_INDEX_KDTREE = 0\n",
    "index_params = dict(algorithm = FLANN_INDEX_KDTREE, trees = 5)\n",
    "search_params = dict(checks=50) \n",
    "\n",
    "flann = cv.FlannBasedMatcher(index_params,search_params)\n",
    "arr=[]\n",
    "for i in range(len(desc)):\n",
    "    matches = flann.knnMatch(np.asarray(desc[i][0],np.float32),np.asarray(centers,np.float32),k=2)\n",
    "    #for j in range(len(matches)):\n",
    "        #arr[-1].append(matches[j][0].trainIdx)\n",
    "    arr.append([matches[j][0].trainIdx for j in range(len(matches))])\n"
   ]
  },
  {
   "cell_type": "code",
   "execution_count": 99,
   "metadata": {},
   "outputs": [
    {
     "name": "stdout",
     "output_type": "stream",
     "text": [
      "histogram with frequency of words in an image done\n"
     ]
    }
   ],
   "source": [
    "#creating a histogram\n",
    "doc=[]\n",
    "for i in range(len(arr)): \n",
    "    hist=[0]*(dictionary_size)\n",
    "    for j in range(0,dictionary_size):\n",
    "        l = len((np.where(np.array(arr[i]) == j))[0])\n",
    "        hist[j] = l\n",
    "    doc.append(hist)\n",
    "print(\"histogram with frequency of words in an image done (method 1)\")"
   ]
  },
  {
   "cell_type": "code",
   "execution_count": null,
   "metadata": {},
   "outputs": [],
   "source": []
  },
  {
   "cell_type": "code",
   "execution_count": 100,
   "metadata": {},
   "outputs": [],
   "source": [
    "doc_word=[]\n",
    "for i in range(len(arr)):\n",
    "    hist=[0]*dictionary_size\n",
    "    c={}\n",
    "    for j in range(len(arr[i])):\n",
    "        if (arr[i][j] in c):\n",
    "            c[arr[i][j]]+=1\n",
    "        else:\n",
    "            c[arr[i][j]]=1\n",
    "    for k in c:\n",
    "        hist[k]=c[k]\n",
    "    doc_word.append(hist)\n",
    "print(\"histogram with frequency of words in an image done (method 2)\")       \n",
    "    "
   ]
  },
  {
   "cell_type": "code",
   "execution_count": null,
   "metadata": {},
   "outputs": [],
   "source": []
  },
  {
   "cell_type": "code",
   "execution_count": 106,
   "metadata": {},
   "outputs": [
    {
     "name": "stdout",
     "output_type": "stream",
     "text": [
      "[[15, 0, 12, 14, 15, 6, 7, 0, 6, 6, 7, 4, 8, 1, 4, 4, 14, 12, 10, 10, 10, 6, 6, 1, 4, 17, 30, 11, 7, 5, 9, 11, 9, 18, 17, 17, 12, 3, 9, 13, 7, 7, 10, 5, 13, 11, 6, 9, 6, 4], [0, 0, 4, 7, 6, 2, 0, 2, 11, 0, 0, 1, 6, 3, 0, 1, 2, 1, 0, 0, 1, 0, 2, 0, 1, 1, 1, 1, 6, 2, 2, 0, 0, 6, 2, 0, 0, 3, 1, 7, 0, 0, 0, 2, 0, 0, 0, 1, 0, 0], [1, 0, 1, 2, 1, 0, 3, 1, 1, 2, 1, 1, 0, 0, 0, 0, 0, 0, 0, 0, 0, 0, 0, 0, 0, 0, 3, 0, 1, 4, 2, 0, 0, 0, 0, 0, 0, 0, 0, 1, 1, 0, 2, 3, 0, 0, 0, 0, 0, 0], [1, 0, 1, 1, 0, 3, 2, 1, 12, 3, 1, 1, 2, 3, 3, 0, 2, 1, 3, 0, 1, 0, 2, 0, 2, 2, 0, 8, 1, 11, 0, 3, 0, 5, 2, 0, 1, 1, 7, 3, 3, 0, 1, 0, 1, 1, 2, 5, 3, 0], [2, 0, 0, 0, 1, 1, 3, 0, 0, 0, 0, 2, 1, 0, 1, 0, 1, 3, 0, 0, 0, 3, 0, 0, 1, 1, 0, 0, 5, 0, 4, 0, 0, 0, 1, 0, 1, 0, 2, 0, 0, 0, 3, 0, 0, 1, 0, 2, 1, 0], [2, 0, 0, 3, 1, 0, 2, 0, 0, 2, 1, 1, 0, 0, 4, 1, 2, 2, 1, 0, 0, 1, 1, 0, 0, 0, 2, 1, 0, 1, 0, 1, 0, 0, 1, 1, 1, 2, 1, 0, 1, 0, 0, 0, 0, 0, 0, 1, 6, 0], [12, 0, 3, 12, 5, 2, 13, 0, 4, 2, 5, 7, 0, 1, 11, 2, 15, 9, 6, 10, 3, 3, 9, 2, 9, 11, 7, 13, 7, 5, 6, 11, 4, 3, 7, 4, 6, 23, 4, 17, 5, 6, 11, 10, 3, 5, 5, 9, 8, 4], [10, 1, 6, 4, 9, 8, 7, 2, 6, 7, 8, 1, 5, 2, 6, 1, 10, 4, 2, 7, 6, 8, 6, 0, 3, 4, 9, 7, 4, 0, 1, 5, 3, 14, 9, 6, 11, 4, 3, 28, 4, 7, 8, 0, 4, 7, 3, 5, 2, 5], [0, 0, 0, 2, 2, 0, 4, 1, 0, 0, 1, 2, 2, 0, 3, 1, 2, 0, 2, 0, 3, 0, 3, 1, 0, 1, 4, 0, 2, 1, 12, 0, 0, 0, 0, 0, 1, 2, 0, 1, 0, 2, 0, 3, 0, 0, 0, 2, 6, 0], [3, 3, 5, 6, 1, 6, 0, 3, 7, 3, 1, 1, 7, 0, 13, 4, 7, 2, 6, 8, 6, 0, 3, 1, 4, 13, 12, 8, 1, 0, 13, 2, 4, 5, 9, 2, 12, 13, 8, 21, 7, 3, 5, 3, 4, 3, 5, 8, 1, 3], [0, 0, 1, 0, 2, 0, 1, 0, 1, 0, 2, 0, 0, 3, 1, 1, 1, 0, 1, 0, 3, 0, 0, 1, 3, 1, 3, 1, 0, 0, 7, 0, 0, 4, 3, 2, 0, 3, 2, 4, 2, 2, 1, 2, 0, 0, 0, 3, 0, 1], [2, 0, 3, 0, 6, 2, 2, 0, 0, 0, 0, 2, 0, 0, 5, 1, 6, 2, 4, 4, 1, 7, 2, 0, 0, 7, 9, 9, 1, 2, 8, 5, 4, 6, 3, 4, 5, 0, 3, 1, 0, 2, 2, 1, 1, 3, 1, 1, 1, 5], [1, 0, 0, 0, 1, 0, 0, 0, 0, 0, 0, 0, 0, 0, 0, 0, 1, 0, 1, 0, 0, 0, 1, 0, 1, 0, 1, 3, 0, 0, 0, 0, 0, 0, 1, 0, 2, 0, 0, 1, 2, 0, 0, 0, 0, 0, 0, 1, 0, 0], [2, 0, 5, 5, 1, 2, 7, 0, 3, 1, 2, 5, 1, 0, 1, 0, 3, 3, 0, 2, 1, 6, 1, 0, 1, 0, 0, 1, 5, 0, 4, 2, 2, 3, 2, 3, 3, 0, 0, 11, 0, 3, 1, 3, 4, 1, 0, 0, 15, 2], [1, 32, 5, 7, 12, 9, 3, 47, 16, 16, 18, 1, 119, 41, 8, 24, 3, 6, 1, 1, 22, 4, 4, 44, 1, 2, 5, 8, 2, 10, 8, 4, 16, 2, 1, 10, 2, 5, 14, 2, 2, 15, 3, 4, 14, 2, 13, 9, 5, 12]]\n"
     ]
    }
   ],
   "source": [
    "print(doc_word)"
   ]
  },
  {
   "cell_type": "code",
   "execution_count": null,
   "metadata": {},
   "outputs": [],
   "source": []
  }
 ],
 "metadata": {
  "kernelspec": {
   "display_name": "Python 3",
   "language": "python",
   "name": "python3"
  },
  "language_info": {
   "codemirror_mode": {
    "name": "ipython",
    "version": 3
   },
   "file_extension": ".py",
   "mimetype": "text/x-python",
   "name": "python",
   "nbconvert_exporter": "python",
   "pygments_lexer": "ipython3",
   "version": "3.7.4"
  }
 },
 "nbformat": 4,
 "nbformat_minor": 2
}
