{
 "cells": [
  {
   "cell_type": "code",
   "execution_count": 51,
   "metadata": {},
   "outputs": [],
   "source": [
    "import cv2 as cv\n",
    "import numpy as np\n",
    "import scipy\n",
    "import pickle\n",
    "import random\n",
    "import os\n",
    "import matplotlib.pyplot as plt\n",
    "from sklearn.cluster import KMeans\n",
    "from sklearn.cluster import KMeans,MiniBatchKMeans"
   ]
  },
  {
   "cell_type": "code",
   "execution_count": 52,
   "metadata": {},
   "outputs": [],
   "source": [
    "directory='/Users/maddisiddart/Desktop/lessdataset'\n",
    "images=os.listdir(directory)"
   ]
  },
  {
   "cell_type": "code",
   "execution_count": 53,
   "metadata": {},
   "outputs": [],
   "source": [
    "#finding descriptors\n",
    "desc=[]\n",
    "key_list=[]\n",
    "X=[]\n",
    "sift = cv.xfeatures2d.SIFT_create()\n",
    "for img_name in images:\n",
    "    img_path=os.path.join(directory,img_name)\n",
    "    img=cv.imread(img_path)\n",
    "    '''plt.figure()\n",
    "    plt.imshow(img)\n",
    "    plt.show() '''\n",
    "    desc.append([])\n",
    "    key_list.append([])\n",
    "    kps=sift.detect(img)\n",
    "    kp1, des1 = sift.compute(img, kps)\n",
    "    desc[-1].append(des1)\n",
    "    key_list[-1].append(kp1)\n",
    "    \n",
    "    for d in des1:\n",
    "        X.append(d)"
   ]
  },
  {
   "cell_type": "code",
   "execution_count": 56,
   "metadata": {},
   "outputs": [
    {
     "name": "stdout",
     "output_type": "stream",
     "text": [
      "clustered\n"
     ]
    }
   ],
   "source": [
    "#clustering of key points to make dictionary using k means\n",
    "dictionary_size=20\n",
    "kmeans = KMeans(n_clusters=dictionary_size, init='k-means++', max_iter=300, n_init=10, random_state=0).fit(X)\n",
    "centers=kmeans.cluster_centers_\n",
    "print(\"clustered\")\n",
    "\n",
    "\n",
    "\n"
   ]
  },
  {
   "cell_type": "code",
   "execution_count": 65,
   "metadata": {},
   "outputs": [],
   "source": [
    "#flann matcher to match key points to words in dictionary\n",
    "FLANN_INDEX_KDTREE = 0\n",
    "index_params = dict(algorithm = FLANN_INDEX_KDTREE, trees = 5)\n",
    "search_params = dict(checks=50) \n",
    "\n",
    "flann = cv.FlannBasedMatcher(index_params,search_params)\n",
    "arr=[]\n",
    "for i in range(len(desc)):\n",
    "    matches = flann.knnMatch(np.asarray(desc[i][0],np.float32),np.asarray(centers,np.float32),k=2)\n",
    "    for j in range(len(matches)):\n",
    "        arr.append(matches[j][0].trainIdx)\n"
   ]
  },
  {
   "cell_type": "code",
   "execution_count": null,
   "metadata": {},
   "outputs": [],
   "source": []
  },
  {
   "cell_type": "code",
   "execution_count": null,
   "metadata": {},
   "outputs": [],
   "source": []
  },
  {
   "cell_type": "code",
   "execution_count": null,
   "metadata": {},
   "outputs": [],
   "source": []
  }
 ],
 "metadata": {
  "kernelspec": {
   "display_name": "Python 3",
   "language": "python",
   "name": "python3"
  },
  "language_info": {
   "codemirror_mode": {
    "name": "ipython",
    "version": 3
   },
   "file_extension": ".py",
   "mimetype": "text/x-python",
   "name": "python",
   "nbconvert_exporter": "python",
   "pygments_lexer": "ipython3",
   "version": "3.7.4"
  }
 },
 "nbformat": 4,
 "nbformat_minor": 2
}
